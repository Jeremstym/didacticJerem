{
 "cells": [
  {
   "cell_type": "markdown",
   "metadata": {},
   "source": [
    "# Reults analysis to plot figures"
   ]
  },
  {
   "cell_type": "code",
   "execution_count": 1,
   "metadata": {},
   "outputs": [],
   "source": [
    "import numpy as np\n",
    "import matplotlib.pyplot as plt\n",
    "import seaborn as sns\n",
    "import pandas as pd\n",
    "import os\n",
    "import sys\n",
    "import re"
   ]
  },
  {
   "cell_type": "code",
   "execution_count": 2,
   "metadata": {},
   "outputs": [],
   "source": [
    "def load_results(model_name: str) -> pd.DataFrame:\n",
    "    path = '/data/stympopper/didacticWORKSHOP/' + model_name + '/seed[0-9][0-9]/predictions/test_categorical_scores.csv'\n",
    "    files = glob(path)\n",
    "    if not files:\n",
    "        raise ValueError(\"No files found\")\n",
    "    results = pd.DataFrame()\n",
    "    for file in files:\n",
    "        df = pd.read_csv(file, index_col=0) \n",
    "        df = df.loc[[\"acc\", \"auroc\", \"auroc_wht\", \"auroc_controlled\", \"auroc_uncontrolled\"]][\"ht_severity_prediction\"].reset_index().rename(columns={\"index\": \"Metric\"})\n",
    "        results = pd.concat([results, df], axis=0)\n",
    "    results = results.reset_index(drop=True)\n",
    "    results[\"ht_severity_prediction\"] = pd.to_numeric(results[\"ht_severity_prediction\"], downcast=\"float\")\n",
    "    return results"
   ]
  },
  {
   "cell_type": "code",
   "execution_count": 3,
   "metadata": {},
   "outputs": [],
   "source": [
    "# Plot box plot for results\n",
    "def plot_results(results: pd.DataFrame, model_name: str):\n",
    "    sns.set(style=\"whitegrid\")\n",
    "    plt.figure(figsize=(10, 6))\n",
    "    ax = sns.boxplot(x=\"Metric\", y=\"ht_severity_prediction\", data=results, palette=\"Set3\")\n",
    "    ax.set_title(model_name)\n",
    "    ax.set_ylabel(\"AUROC\")\n",
    "    ax.set_xlabel(\"Metric\")\n",
    "    plt.show()"
   ]
  },
  {
   "cell_type": "code",
   "execution_count": null,
   "metadata": {},
   "outputs": [],
   "source": [
    "df_results = load_results(\"TEST-CONSISTENCY\")\n",
    "plot_results(df_results, \"TEST-CONSISTENCY\")"
   ]
  }
 ],
 "metadata": {
  "kernelspec": {
   "display_name": "base",
   "language": "python",
   "name": "python3"
  },
  "language_info": {
   "codemirror_mode": {
    "name": "ipython",
    "version": 3
   },
   "file_extension": ".py",
   "mimetype": "text/x-python",
   "name": "python",
   "nbconvert_exporter": "python",
   "pygments_lexer": "ipython3",
   "version": "3.11.8"
  }
 },
 "nbformat": 4,
 "nbformat_minor": 2
}
